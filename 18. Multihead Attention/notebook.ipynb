{
 "cells": [
  {
   "cell_type": "code",
   "execution_count": 11,
   "metadata": {},
   "outputs": [],
   "source": [
    "import torch\n",
    "import torch.nn as nn\n",
    "class MultiHeadAttention(nn.Module):\n",
    "    def __init__(self, d_in, d_out, context_length, dropout, num_heads, qkv_bias=False):\n",
    "        super().__init__()\n",
    "        assert d_out % num_heads == 0, \"d_out must be divisible by num_heads\"\n",
    "        self.d_out = d_out\n",
    "        self.num_heads = num_heads\n",
    "\n",
    "        #Step 2\n",
    "        self.head_dim = d_out // num_heads \n",
    "\n",
    "        #Step 3\n",
    "        self.W_key = nn.Linear(d_in, d_out, bias=qkv_bias)\n",
    "        self.W_query = nn.Linear(d_in, d_out, bias=qkv_bias)\n",
    "        self.W_value = nn.Linear(d_in, d_out, bias=qkv_bias)\n",
    "        self.out_proj = nn.Linear(d_out, d_out) \n",
    "\n",
    "        self.dropout = nn.Dropout(dropout)\n",
    "        \n",
    "        #...Step 8 \n",
    "        self.register_buffer(\n",
    "            'mask',\n",
    "            torch.triu(torch.ones(context_length, context_length), diagonal=1)\n",
    "        )\n",
    "    \n",
    "    def forward(self, x):\n",
    "        b, num_tokens, d_in = x.shape\n",
    "\n",
    "        #Step 4\n",
    "        keys = self.W_key(x) \n",
    "        queries = self.W_query(x) \n",
    "        values = self.W_value(x) \n",
    "\n",
    "        #Step 5\n",
    "        keys = keys.view(b, num_tokens, self.num_heads, self.head_dim) \n",
    "        queries = queries.view(b, num_tokens, self.num_heads, self.head_dim)\n",
    "        values = values.view(b, num_tokens, self.num_heads, self.head_dim) \n",
    "\n",
    "        #Step 6\n",
    "        keys = keys.transpose(1, 2) \n",
    "        queries = queries.transpose(1, 2) \n",
    "        values = values.transpose(1, 2) \n",
    "\n",
    "        #Step 7\n",
    "        attn_scores = queries @ keys.transpose(2, 3) \n",
    "\n",
    "        #Step 8\n",
    "        mask_bool = self.mask.bool()[:num_tokens, :num_tokens] \n",
    "        attn_scores.masked_fill_(mask_bool, -torch.inf) \n",
    "        attn_weights = torch.softmax(\n",
    "                        attn_scores / keys.shape[-1]**0.5, dim=-1\n",
    "                    )\n",
    "        attn_weights = self.dropout(attn_weights)\n",
    "\n",
    "        #Step 9 + Step 10\n",
    "        context_vec = (attn_weights @ values).transpose(1, 2)\n",
    "\n",
    "        #Step 10 + Step 11\n",
    "        context_vec = context_vec.contiguous().view(b, num_tokens, self.d_out)\n",
    "        context_vec = self.out_proj(context_vec)\n",
    "        \n",
    "        return context_vec"
   ]
  },
  {
   "cell_type": "code",
   "execution_count": 14,
   "metadata": {},
   "outputs": [
    {
     "name": "stdout",
     "output_type": "stream",
     "text": [
      "torch.Size([2, 3, 4])\n",
      "tensor([[[ 0.6326, -0.4115],\n",
      "         [ 0.7489, -0.2632],\n",
      "         [ 0.7444, -0.2735]],\n",
      "\n",
      "        [[ 0.6326, -0.4115],\n",
      "         [ 0.7489, -0.2632],\n",
      "         [ 0.7444, -0.2735]]], grad_fn=<ViewBackward0>)\n",
      "context_vecs.shape: torch.Size([2, 3, 2])\n"
     ]
    }
   ],
   "source": [
    "#Step 1\n",
    "a = torch.tensor([[0.2745, 0.6584, 0.2775, 0.8573],\n",
    "                    [0.8993, 0.0390, 0.9268, 0.7388],\n",
    "                    [0.7179, 0.7058, 0.9156, 0.4340]],\n",
    "                )\n",
    "\n",
    "torch.manual_seed(123)\n",
    "batch=torch.stack((a,a),dim=0)\n",
    "print(batch.shape)\n",
    "\n",
    "batch_size, context_length, d_in = batch.shape\n",
    "d_out = 2\n",
    "mha = MultiHeadAttention(d_in, d_out, context_length, 0.0, num_heads=2)\n",
    "context_vecs = mha(batch)\n",
    "print(context_vecs)\n",
    "print(\"context_vecs.shape:\", context_vecs.shape)"
   ]
  }
 ],
 "metadata": {
  "kernelspec": {
   "display_name": "Python 3",
   "language": "python",
   "name": "python3"
  },
  "language_info": {
   "codemirror_mode": {
    "name": "ipython",
    "version": 3
   },
   "file_extension": ".py",
   "mimetype": "text/x-python",
   "name": "python",
   "nbconvert_exporter": "python",
   "pygments_lexer": "ipython3",
   "version": "3.11.5"
  }
 },
 "nbformat": 4,
 "nbformat_minor": 2
}
