{
 "cells": [
  {
   "cell_type": "markdown",
   "id": "6ca90705",
   "metadata": {
    "papermill": {
     "duration": 0.003256,
     "end_time": "2025-01-21T15:24:02.242695",
     "exception": false,
     "start_time": "2025-01-21T15:24:02.239439",
     "status": "completed"
    },
    "tags": []
   },
   "source": [
    "# Hands on With GPT Tokenizer"
   ]
  },
  {
   "cell_type": "code",
   "execution_count": 1,
   "id": "8152e018",
   "metadata": {
    "_cell_guid": "b1076dfc-b9ad-4769-8c92-a6c4dae69d19",
    "_uuid": "8f2839f25d086af736a60e9eeb907d3b93b6e0e5",
    "execution": {
     "iopub.execute_input": "2025-01-21T15:24:02.250096Z",
     "iopub.status.busy": "2025-01-21T15:24:02.249603Z",
     "iopub.status.idle": "2025-01-21T15:24:07.662107Z",
     "shell.execute_reply": "2025-01-21T15:24:07.660675Z"
    },
    "papermill": {
     "duration": 5.418676,
     "end_time": "2025-01-21T15:24:07.664510",
     "exception": false,
     "start_time": "2025-01-21T15:24:02.245834",
     "status": "completed"
    },
    "tags": []
   },
   "outputs": [
    {
     "name": "stdout",
     "output_type": "stream",
     "text": [
      "Requirement already satisfied: tiktoken in /usr/local/lib/python3.10/dist-packages (0.8.0)\r\n",
      "Requirement already satisfied: regex>=2022.1.18 in /usr/local/lib/python3.10/dist-packages (from tiktoken) (2024.11.6)\r\n",
      "Requirement already satisfied: requests>=2.26.0 in /usr/local/lib/python3.10/dist-packages (from tiktoken) (2.32.3)\r\n",
      "Requirement already satisfied: charset-normalizer<4,>=2 in /usr/local/lib/python3.10/dist-packages (from requests>=2.26.0->tiktoken) (3.4.0)\r\n",
      "Requirement already satisfied: idna<4,>=2.5 in /usr/local/lib/python3.10/dist-packages (from requests>=2.26.0->tiktoken) (3.10)\r\n",
      "Requirement already satisfied: urllib3<3,>=1.21.1 in /usr/local/lib/python3.10/dist-packages (from requests>=2.26.0->tiktoken) (2.2.3)\r\n",
      "Requirement already satisfied: certifi>=2017.4.17 in /usr/local/lib/python3.10/dist-packages (from requests>=2.26.0->tiktoken) (2024.12.14)\r\n"
     ]
    }
   ],
   "source": [
    "!pip install tiktoken"
   ]
  },
  {
   "cell_type": "code",
   "execution_count": 2,
   "id": "f9ea434e",
   "metadata": {
    "execution": {
     "iopub.execute_input": "2025-01-21T15:24:07.672067Z",
     "iopub.status.busy": "2025-01-21T15:24:07.671682Z",
     "iopub.status.idle": "2025-01-21T15:24:07.722464Z",
     "shell.execute_reply": "2025-01-21T15:24:07.721300Z"
    },
    "papermill": {
     "duration": 0.056873,
     "end_time": "2025-01-21T15:24:07.724542",
     "exception": false,
     "start_time": "2025-01-21T15:24:07.667669",
     "status": "completed"
    },
    "tags": []
   },
   "outputs": [],
   "source": [
    "import importlib\n",
    "import tiktoken"
   ]
  },
  {
   "cell_type": "code",
   "execution_count": 3,
   "id": "65d238f2",
   "metadata": {
    "execution": {
     "iopub.execute_input": "2025-01-21T15:24:07.732296Z",
     "iopub.status.busy": "2025-01-21T15:24:07.731914Z",
     "iopub.status.idle": "2025-01-21T15:24:07.739412Z",
     "shell.execute_reply": "2025-01-21T15:24:07.738291Z"
    },
    "papermill": {
     "duration": 0.013104,
     "end_time": "2025-01-21T15:24:07.740967",
     "exception": false,
     "start_time": "2025-01-21T15:24:07.727863",
     "status": "completed"
    },
    "tags": []
   },
   "outputs": [
    {
     "name": "stdout",
     "output_type": "stream",
     "text": [
      "Version:  0.8.0\n"
     ]
    }
   ],
   "source": [
    "print(\"Version: \",importlib.metadata.version(\"tiktoken\"))"
   ]
  },
  {
   "cell_type": "code",
   "execution_count": 4,
   "id": "24decc23",
   "metadata": {
    "execution": {
     "iopub.execute_input": "2025-01-21T15:24:07.748579Z",
     "iopub.status.busy": "2025-01-21T15:24:07.748247Z",
     "iopub.status.idle": "2025-01-21T15:24:09.467222Z",
     "shell.execute_reply": "2025-01-21T15:24:09.466027Z"
    },
    "papermill": {
     "duration": 1.725117,
     "end_time": "2025-01-21T15:24:09.469392",
     "exception": false,
     "start_time": "2025-01-21T15:24:07.744275",
     "status": "completed"
    },
    "tags": []
   },
   "outputs": [],
   "source": [
    "tokenizer=tiktoken.get_encoding(\"gpt2\")"
   ]
  },
  {
   "cell_type": "code",
   "execution_count": 5,
   "id": "868842c2",
   "metadata": {
    "execution": {
     "iopub.execute_input": "2025-01-21T15:24:09.476830Z",
     "iopub.status.busy": "2025-01-21T15:24:09.476478Z",
     "iopub.status.idle": "2025-01-21T15:24:09.480872Z",
     "shell.execute_reply": "2025-01-21T15:24:09.479886Z"
    },
    "papermill": {
     "duration": 0.010266,
     "end_time": "2025-01-21T15:24:09.482803",
     "exception": false,
     "start_time": "2025-01-21T15:24:09.472537",
     "status": "completed"
    },
    "tags": []
   },
   "outputs": [],
   "source": [
    "text=(\"Hello, do you like tea of coffee? <|endoftext|> Country is facing crucial economic crisisToday.\")"
   ]
  },
  {
   "cell_type": "code",
   "execution_count": 6,
   "id": "6a6a6603",
   "metadata": {
    "execution": {
     "iopub.execute_input": "2025-01-21T15:24:09.490326Z",
     "iopub.status.busy": "2025-01-21T15:24:09.489941Z",
     "iopub.status.idle": "2025-01-21T15:24:09.494807Z",
     "shell.execute_reply": "2025-01-21T15:24:09.493666Z"
    },
    "papermill": {
     "duration": 0.010268,
     "end_time": "2025-01-21T15:24:09.496411",
     "exception": false,
     "start_time": "2025-01-21T15:24:09.486143",
     "status": "completed"
    },
    "tags": []
   },
   "outputs": [],
   "source": [
    "integer=tokenizer.encode(text,allowed_special={\"<|endoftext|>\"})"
   ]
  },
  {
   "cell_type": "code",
   "execution_count": 7,
   "id": "86bcbf42",
   "metadata": {
    "execution": {
     "iopub.execute_input": "2025-01-21T15:24:09.503652Z",
     "iopub.status.busy": "2025-01-21T15:24:09.503329Z",
     "iopub.status.idle": "2025-01-21T15:24:09.508613Z",
     "shell.execute_reply": "2025-01-21T15:24:09.507205Z"
    },
    "papermill": {
     "duration": 0.010873,
     "end_time": "2025-01-21T15:24:09.510410",
     "exception": false,
     "start_time": "2025-01-21T15:24:09.499537",
     "status": "completed"
    },
    "tags": []
   },
   "outputs": [
    {
     "name": "stdout",
     "output_type": "stream",
     "text": [
      "[15496, 11, 466, 345, 588, 8887, 286, 6891, 30, 220, 50256, 12946, 318, 6476, 8780, 3034, 4902, 8888, 13]\n"
     ]
    }
   ],
   "source": [
    "print(integer)"
   ]
  },
  {
   "cell_type": "code",
   "execution_count": 8,
   "id": "56a9be73",
   "metadata": {
    "execution": {
     "iopub.execute_input": "2025-01-21T15:24:09.517608Z",
     "iopub.status.busy": "2025-01-21T15:24:09.517304Z",
     "iopub.status.idle": "2025-01-21T15:24:09.521151Z",
     "shell.execute_reply": "2025-01-21T15:24:09.520239Z"
    },
    "papermill": {
     "duration": 0.009325,
     "end_time": "2025-01-21T15:24:09.522752",
     "exception": false,
     "start_time": "2025-01-21T15:24:09.513427",
     "status": "completed"
    },
    "tags": []
   },
   "outputs": [],
   "source": [
    "string=tokenizer.decode(integer)"
   ]
  },
  {
   "cell_type": "code",
   "execution_count": 9,
   "id": "c104338a",
   "metadata": {
    "execution": {
     "iopub.execute_input": "2025-01-21T15:24:09.530254Z",
     "iopub.status.busy": "2025-01-21T15:24:09.529865Z",
     "iopub.status.idle": "2025-01-21T15:24:09.534683Z",
     "shell.execute_reply": "2025-01-21T15:24:09.533372Z"
    },
    "papermill": {
     "duration": 0.010533,
     "end_time": "2025-01-21T15:24:09.536428",
     "exception": false,
     "start_time": "2025-01-21T15:24:09.525895",
     "status": "completed"
    },
    "tags": []
   },
   "outputs": [
    {
     "name": "stdout",
     "output_type": "stream",
     "text": [
      "Hello, do you like tea of coffee? <|endoftext|> Country is facing crucial economic crisisToday.\n"
     ]
    }
   ],
   "source": [
    "print(string)"
   ]
  }
 ],
 "metadata": {
  "kaggle": {
   "accelerator": "none",
   "dataSources": [],
   "dockerImageVersionId": 30839,
   "isGpuEnabled": false,
   "isInternetEnabled": true,
   "language": "python",
   "sourceType": "notebook"
  },
  "kernelspec": {
   "display_name": "Python 3",
   "language": "python",
   "name": "python3"
  },
  "language_info": {
   "codemirror_mode": {
    "name": "ipython",
    "version": 3
   },
   "file_extension": ".py",
   "mimetype": "text/x-python",
   "name": "python",
   "nbconvert_exporter": "python",
   "pygments_lexer": "ipython3",
   "version": "3.10.12"
  },
  "papermill": {
   "default_parameters": {},
   "duration": 10.637654,
   "end_time": "2025-01-21T15:24:10.059015",
   "environment_variables": {},
   "exception": null,
   "input_path": "__notebook__.ipynb",
   "output_path": "__notebook__.ipynb",
   "parameters": {},
   "start_time": "2025-01-21T15:23:59.421361",
   "version": "2.6.0"
  }
 },
 "nbformat": 4,
 "nbformat_minor": 5
}
