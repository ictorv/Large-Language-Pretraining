{
 "cells": [
  {
   "cell_type": "code",
   "execution_count": 1,
   "id": "78e735f4-1f1f-419f-84c8-9d96b456daf8",
   "metadata": {},
   "outputs": [
    {
     "name": "stdout",
     "output_type": "stream",
     "text": [
      "Defaulting to user installation because normal site-packages is not writeable\n",
      "Collecting tiktoken\n",
      "  Obtaining dependency information for tiktoken from https://files.pythonhosted.org/packages/1e/86/eea2309dc258fb86c7d9b10db536434fc16420feaa3b6113df18b23db7c2/tiktoken-0.8.0-cp311-cp311-win_amd64.whl.metadata\n",
      "  Downloading tiktoken-0.8.0-cp311-cp311-win_amd64.whl.metadata (6.8 kB)\n",
      "Requirement already satisfied: regex>=2022.1.18 in c:\\users\\hp\\appdata\\roaming\\python\\python311\\site-packages (from tiktoken) (2023.10.3)\n",
      "Requirement already satisfied: requests>=2.26.0 in c:\\program files\\python311\\lib\\site-packages (from tiktoken) (2.31.0)\n",
      "Requirement already satisfied: charset-normalizer<4,>=2 in c:\\program files\\python311\\lib\\site-packages (from requests>=2.26.0->tiktoken) (3.3.0)\n",
      "Requirement already satisfied: idna<4,>=2.5 in c:\\users\\hp\\appdata\\roaming\\python\\python311\\site-packages (from requests>=2.26.0->tiktoken) (2.10)\n",
      "Requirement already satisfied: urllib3<3,>=1.21.1 in c:\\program files\\python311\\lib\\site-packages (from requests>=2.26.0->tiktoken) (2.0.6)\n",
      "Requirement already satisfied: certifi>=2017.4.17 in c:\\program files\\python311\\lib\\site-packages (from requests>=2.26.0->tiktoken) (2023.7.22)\n",
      "Downloading tiktoken-0.8.0-cp311-cp311-win_amd64.whl (884 kB)\n",
      "   ---------------------------------------- 0.0/884.5 kB ? eta -:--:--\n",
      "   ---------------------------------------- 0.0/884.5 kB ? eta -:--:--\n",
      "   ---------------------------------------- 10.2/884.5 kB ? eta -:--:--\n",
      "   - ------------------------------------- 30.7/884.5 kB 435.7 kB/s eta 0:00:02\n",
      "   -- ------------------------------------ 61.4/884.5 kB 465.5 kB/s eta 0:00:02\n",
      "   ---- --------------------------------- 112.6/884.5 kB 652.2 kB/s eta 0:00:02\n",
      "   ------- ------------------------------ 174.1/884.5 kB 748.1 kB/s eta 0:00:01\n",
      "   ---------- --------------------------- 245.8/884.5 kB 942.1 kB/s eta 0:00:01\n",
      "   ---------------- ----------------------- 368.6/884.5 kB 1.1 MB/s eta 0:00:01\n",
      "   ----------------------- ---------------- 522.2/884.5 kB 1.5 MB/s eta 0:00:01\n",
      "   --------------------------- ------------ 614.4/884.5 kB 1.5 MB/s eta 0:00:01\n",
      "   -------------------------------------- - 860.2/884.5 kB 1.9 MB/s eta 0:00:01\n",
      "   ---------------------------------------- 884.5/884.5 kB 1.9 MB/s eta 0:00:00\n",
      "Installing collected packages: tiktoken\n",
      "Successfully installed tiktoken-0.8.0\n"
     ]
    },
    {
     "name": "stderr",
     "output_type": "stream",
     "text": [
      "DEPRECATION: Loading egg at c:\\program files\\python311\\lib\\site-packages\\vboxapi-1.0-py3.11.egg is deprecated. pip 23.3 will enforce this behaviour change. A possible replacement is to use pip for package installation..\n",
      "\n",
      "[notice] A new release of pip is available: 23.2.1 -> 24.3.1\n",
      "[notice] To update, run: python.exe -m pip install --upgrade pip\n"
     ]
    }
   ],
   "source": [
    "!pip install tiktoken"
   ]
  },
  {
   "cell_type": "markdown",
   "id": "933cd27d-f5e1-4e6d-899d-dbeb6da4a62c",
   "metadata": {},
   "source": [
    "## Input Target Pairs"
   ]
  },
  {
   "cell_type": "code",
   "execution_count": 1,
   "id": "a48c3ce9-ef5f-4070-9221-e7c6a860fc4d",
   "metadata": {},
   "outputs": [],
   "source": [
    "import tiktoken"
   ]
  },
  {
   "cell_type": "code",
   "execution_count": 2,
   "id": "acc25096-bf75-46c1-a8cc-3c0156127fda",
   "metadata": {},
   "outputs": [],
   "source": [
    "with open(\"the-verdict.txt\",\"r\",encoding=\"utf-8\") as f:\n",
    "    raw_text=f.read()"
   ]
  },
  {
   "cell_type": "code",
   "execution_count": 3,
   "id": "2be408fe-c99a-4714-bb13-c0ee6235d240",
   "metadata": {},
   "outputs": [],
   "source": [
    "tokenizer=tiktoken.get_encoding(\"gpt2\")"
   ]
  },
  {
   "cell_type": "code",
   "execution_count": 4,
   "id": "06fe5989-120e-4348-84b1-cdb2ad26a633",
   "metadata": {},
   "outputs": [],
   "source": [
    "enc_text=tokenizer.encode(raw_text)"
   ]
  },
  {
   "cell_type": "code",
   "execution_count": 5,
   "id": "7119824a-2c34-4320-bc97-e1823ee2cc81",
   "metadata": {},
   "outputs": [
    {
     "name": "stdout",
     "output_type": "stream",
     "text": [
      "5145\n"
     ]
    }
   ],
   "source": [
    "print(len(enc_text))"
   ]
  },
  {
   "cell_type": "code",
   "execution_count": 6,
   "id": "7f35af5a-d1d2-47f0-aabc-33b668d2751c",
   "metadata": {},
   "outputs": [],
   "source": [
    "enc_sample=enc_text[50:]"
   ]
  },
  {
   "cell_type": "markdown",
   "id": "f26a6c88-6fe2-492e-89dc-a995f0dffe2a",
   "metadata": {},
   "source": [
    "## Context Size"
   ]
  },
  {
   "cell_type": "code",
   "execution_count": 7,
   "id": "1be29e4e-c7a5-4aad-b7a3-4f0536981767",
   "metadata": {},
   "outputs": [
    {
     "name": "stdout",
     "output_type": "stream",
     "text": [
      "x:-> [290, 4920, 2241, 287]\n",
      "y:->      [4920, 2241, 287, 257]\n"
     ]
    }
   ],
   "source": [
    "context_size=4 #length of input\n",
    "\n",
    "x=enc_sample[:context_size]\n",
    "y=enc_sample[1:context_size+1]\n",
    "\n",
    "print(\"x:->\",x)\n",
    "print(\"y:->     \",y)"
   ]
  },
  {
   "cell_type": "code",
   "execution_count": 8,
   "id": "63cdac35-34d9-48a0-9add-545e88dbcee9",
   "metadata": {},
   "outputs": [
    {
     "name": "stdout",
     "output_type": "stream",
     "text": [
      "[290] -> 4920\n",
      "[290, 4920] -> 2241\n",
      "[290, 4920, 2241] -> 287\n",
      "[290, 4920, 2241, 287] -> 257\n"
     ]
    }
   ],
   "source": [
    "# Same thing as above\n",
    "for i in range(1,context_size+1):\n",
    "    context=enc_sample[:i]\n",
    "    desired=enc_sample[i]\n",
    "    print(context,\"->\",desired)"
   ]
  },
  {
   "cell_type": "code",
   "execution_count": 9,
   "id": "30a82a21-2497-4acd-a2dc-a8c703a644d9",
   "metadata": {},
   "outputs": [
    {
     "name": "stdout",
     "output_type": "stream",
     "text": [
      " and ->  established\n",
      " and established ->  himself\n",
      " and established himself ->  in\n",
      " and established himself in ->  a\n"
     ]
    }
   ],
   "source": [
    "for i in range(1,context_size+1):\n",
    "    context=enc_sample[:i]\n",
    "    desired=enc_sample[i]\n",
    "    print(tokenizer.decode(context),\"->\",tokenizer.decode([desired]))"
   ]
  },
  {
   "cell_type": "code",
   "execution_count": 10,
   "id": "611a1d55-fbc1-4830-8f69-f9a99e5f9011",
   "metadata": {},
   "outputs": [],
   "source": [
    "from torch.utils.data import Dataset, DataLoader\n",
    "\n",
    "class GPTDataset():\n",
    "    def __init__(self,txt,tokenizer,max_length,stride):\n",
    "        self.input_ids=[]\n",
    "        self.target_ids=[]\n",
    "\n",
    "        token_ids=tokenizer.encode(txt, allowed_special={\"<|endoftext|>\"})\n",
    "\n",
    "        for i in range(0,len(token_ids)-max_length, stride):\n",
    "            input_chunk=token_ids[i:i+max_length]\n",
    "            target_chunk=token_ids[i+1:i+max_length+1]\n",
    "            self.input_ids.append(torch.tensor(input_chunk))\n",
    "            self.target_ids.append(torch.tensor(target_chunk))\n",
    "    def __len__(self):\n",
    "        return len(self.input_ids)\n",
    "\n",
    "    def __getitem__(self, idx):\n",
    "        return self.input_ids[idx], self.target_ids[idx]\n",
    "        "
   ]
  },
  {
   "cell_type": "markdown",
   "id": "9ea5ca76-1877-46b5-b611-720bab8a1f2c",
   "metadata": {},
   "source": [
    "## Creating Dataloader"
   ]
  },
  {
   "cell_type": "code",
   "execution_count": 11,
   "id": "0b6eeaba-881a-47c8-9902-5941e55eda4a",
   "metadata": {},
   "outputs": [],
   "source": [
    "def create_dataloader(txt, batch_size=4, max_length=256, stride=128, shuffle=True, drop_last=True,num_workers=0):\n",
    "\n",
    "    #Initialise Tokenizer\n",
    "    tokenizer=tiktoken.get_encoding(\"gpt2\")\n",
    "\n",
    "    #Create Dataset\n",
    "    dataset=GPTDataset(txt, tokenizer, max_length, stride)\n",
    "\n",
    "    dataloader=DataLoader(\n",
    "        dataset,\n",
    "        batch_size=batch_size,\n",
    "        shuffle=shuffle,\n",
    "        drop_last=drop_last,\n",
    "        num_workers=num_workers\n",
    "    )\n",
    "\n",
    "    return dataloader"
   ]
  },
  {
   "cell_type": "code",
   "execution_count": 12,
   "id": "bdc045ed-8a15-4b72-b3fe-0ad4a8cd309d",
   "metadata": {},
   "outputs": [
    {
     "name": "stdout",
     "output_type": "stream",
     "text": [
      "[tensor([[  40,  367, 2885, 1464]]), tensor([[ 367, 2885, 1464, 1807]])]\n"
     ]
    }
   ],
   "source": [
    "import torch\n",
    "\n",
    "dataloader=create_dataloader(raw_text, batch_size=1,max_length=4,stride=1, shuffle=False)\n",
    "\n",
    "data_iter= iter(dataloader)\n",
    "first_batch=next(data_iter)\n",
    "print(first_batch)"
   ]
  },
  {
   "cell_type": "code",
   "execution_count": 13,
   "id": "55889b79-fb03-488b-bc4b-171227141de6",
   "metadata": {},
   "outputs": [
    {
     "name": "stdout",
     "output_type": "stream",
     "text": [
      "[tensor([[ 367, 2885, 1464, 1807]]), tensor([[2885, 1464, 1807, 3619]])]\n"
     ]
    }
   ],
   "source": [
    "second_batch=next(data_iter)\n",
    "print(second_batch)"
   ]
  },
  {
   "cell_type": "code",
   "execution_count": 14,
   "id": "81d0318b-1eec-404c-b68a-79d603d5a545",
   "metadata": {},
   "outputs": [
    {
     "name": "stdout",
     "output_type": "stream",
     "text": [
      "Input:\n",
      " tensor([[   40,   367,  2885,  1464],\n",
      "        [ 1807,  3619,   402,   271],\n",
      "        [10899,  2138,   257,  7026],\n",
      "        [15632,   438,  2016,   257],\n",
      "        [  922,  5891,  1576,   438],\n",
      "        [  568,   340,   373,   645],\n",
      "        [ 1049,  5975,   284,   502],\n",
      "        [  284,  3285,   326,    11]])\n",
      "\n",
      "Target:\n",
      " tensor([[  367,  2885,  1464,  1807],\n",
      "        [ 3619,   402,   271, 10899],\n",
      "        [ 2138,   257,  7026, 15632],\n",
      "        [  438,  2016,   257,   922],\n",
      "        [ 5891,  1576,   438,   568],\n",
      "        [  340,   373,   645,  1049],\n",
      "        [ 5975,   284,   502,   284],\n",
      "        [ 3285,   326,    11,   287]])\n"
     ]
    }
   ],
   "source": [
    "import torch\n",
    "\n",
    "dataloader=create_dataloader(raw_text, batch_size=8,max_length=4,stride=4, shuffle=False)\n",
    "\n",
    "data_iter= iter(dataloader)\n",
    "input,target=next(data_iter)\n",
    "print(\"Input:\\n\",input)\n",
    "print(\"\\nTarget:\\n\",target)"
   ]
  },
  {
   "cell_type": "code",
   "execution_count": null,
   "id": "a3af799b-4b26-4a9e-97b9-eeba99487b3b",
   "metadata": {},
   "outputs": [],
   "source": []
  },
  {
   "cell_type": "code",
   "execution_count": null,
   "id": "14b6bf6f-9a6d-44de-84f7-10c7e3c16701",
   "metadata": {},
   "outputs": [],
   "source": []
  }
 ],
 "metadata": {
  "kernelspec": {
   "display_name": "Python 3 (ipykernel)",
   "language": "python",
   "name": "python3"
  },
  "language_info": {
   "codemirror_mode": {
    "name": "ipython",
    "version": 3
   },
   "file_extension": ".py",
   "mimetype": "text/x-python",
   "name": "python",
   "nbconvert_exporter": "python",
   "pygments_lexer": "ipython3",
   "version": "3.11.5"
  }
 },
 "nbformat": 4,
 "nbformat_minor": 5
}
